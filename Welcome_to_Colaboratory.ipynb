{
  "nbformat": 4,
  "nbformat_minor": 0,
  "metadata": {
    "colab": {
      "name": "Welcome to Colaboratory",
      "provenance": [],
      "collapsed_sections": [],
      "include_colab_link": true
    },
    "kernelspec": {
      "display_name": "Python 3",
      "name": "python3"
    }
  },
  "cells": [
    {
      "cell_type": "markdown",
      "metadata": {
        "id": "view-in-github",
        "colab_type": "text"
      },
      "source": [
        "<a href=\"https://colab.research.google.com/github/HEMANTHABANDA/NNDL/blob/main/Welcome_to_Colaboratory.ipynb\" target=\"_parent\"><img src=\"https://colab.research.google.com/assets/colab-badge.svg\" alt=\"Open In Colab\"/></a>"
      ]
    },
    {
      "cell_type": "code",
      "metadata": {
        "colab": {
          "base_uri": "https://localhost:8080/"
        },
        "id": "PLpgkswT9X29",
        "outputId": "f5e92768-7a5c-4f15-d7eb-0548abc1296d"
      },
      "source": [
        "from sympy import *  #library for symbolic mathematics\n",
        "import random\n",
        "\n",
        "#step1 (initialize variables)\n",
        "x0 = random.randint(-9,9) \n",
        "y0 = random.randint(-9,9)\n",
        "epoches = 100\n",
        "learningrate = 0.1\n",
        "print(x0,y0)\n",
        "\n",
        "#step2 (1st derivative of the function)\n",
        "x=Symbol('x')\n",
        "y=Symbol('y')\n",
        "f=x**2+y**2+10\n",
        "fx=f.diff(x)\n",
        "fy=f.diff(y)\n",
        "\n",
        "#calculate value of 1st derivative at x0 & y0\n",
        "for i in range(0,epoches):   # --> step5 (increments the iter i value)\n",
        "  dfx=fx.subs(x,x0)\n",
        "  dfy=fy.subs(y,y0)\n",
        "  dfx=round(dfx,2)\n",
        "  dfy=round(dfy,2)\n",
        "\n",
        "  #step3 (change in x,y values)\n",
        "  cx=-1*(learningrate)*dfx\n",
        "  cy=-1*(learningrate)*dfy\n",
        "  cx=round(cx,2)\n",
        "  cy=round(cy,2)\n",
        "\n",
        "  #step4 (update x & y values)\n",
        "  x0=x0+cx\n",
        "  y0=y0+cy\n",
        "  x0=round(x0,2)\n",
        "  y0=round(y0,2)\n",
        "  \n",
        "  #step6 (checks to break the loop or not)\n",
        "  if i>epoches:\n",
        "    break\n",
        "  else:\n",
        "    continue"
      ],
      "execution_count": 20,
      "outputs": [
        {
          "output_type": "stream",
          "text": [
            "-1 0\n"
          ],
          "name": "stdout"
        }
      ]
    },
    {
      "cell_type": "code",
      "metadata": {
        "colab": {
          "base_uri": "https://localhost:8080/"
        },
        "id": "qylbVjR99f3d",
        "outputId": "36437c9e-2e00-4dd5-ddc2-aef423e9c1f7"
      },
      "source": [
        "print('The minimum value obtained is, at x =',x0)\n",
        "print('The minimum value obtained is, at y =',y0)"
      ],
      "execution_count": 21,
      "outputs": [
        {
          "output_type": "stream",
          "text": [
            "The minimum value obtained is, at x = -0.02\n",
            "The minimum value obtained is, at y = 0\n"
          ],
          "name": "stdout"
        }
      ]
    },
    {
      "cell_type": "code",
      "metadata": {
        "id": "1KR0VXln-kLl"
      },
      "source": [
        ""
      ],
      "execution_count": null,
      "outputs": []
    }
  ]
}